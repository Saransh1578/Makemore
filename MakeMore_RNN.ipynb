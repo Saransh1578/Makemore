{
  "nbformat": 4,
  "nbformat_minor": 0,
  "metadata": {
    "colab": {
      "provenance": [],
      "gpuType": "T4"
    },
    "kernelspec": {
      "name": "python3",
      "display_name": "Python 3"
    },
    "language_info": {
      "name": "python"
    },
    "accelerator": "GPU"
  },
  "cells": [
    {
      "cell_type": "code",
      "execution_count": 1,
      "metadata": {
        "id": "-L3VWQmHYPLQ"
      },
      "outputs": [],
      "source": [
        "import torch\n",
        "import torch.nn.functional as F\n",
        "import matplotlib.pyplot as plt\n",
        "%matplotlib inline"
      ]
    },
    {
      "cell_type": "code",
      "source": [
        "words=open('names.txt','r').read().splitlines()\n",
        "words[:8]"
      ],
      "metadata": {
        "colab": {
          "base_uri": "https://localhost:8080/"
        },
        "id": "njSXKFmFYxFx",
        "outputId": "3ae4ff3f-f063-4d9e-e40b-e0b1d8b1f23b"
      },
      "execution_count": 2,
      "outputs": [
        {
          "output_type": "execute_result",
          "data": {
            "text/plain": [
              "['emma', 'olivia', 'ava', 'isabella', 'sophia', 'charlotte', 'mia', 'amelia']"
            ]
          },
          "metadata": {},
          "execution_count": 2
        }
      ]
    },
    {
      "cell_type": "code",
      "source": [
        "len(words)"
      ],
      "metadata": {
        "colab": {
          "base_uri": "https://localhost:8080/"
        },
        "id": "lxDfOrmKco35",
        "outputId": "fb8b264d-2939-4abf-ff7d-53475dc21cb8"
      },
      "execution_count": 3,
      "outputs": [
        {
          "output_type": "execute_result",
          "data": {
            "text/plain": [
              "32033"
            ]
          },
          "metadata": {},
          "execution_count": 3
        }
      ]
    },
    {
      "cell_type": "code",
      "source": [
        "chars=sorted(list(set(''.join(words))))\n",
        "stoi={s:i+1 for i,s in enumerate(chars)}\n",
        "stoi['.']=0\n",
        "itos={i:s for s,i in stoi.items()}\n",
        "vocab_size=len(itos)\n",
        "print(itos)\n",
        "print(vocab_size)"
      ],
      "metadata": {
        "colab": {
          "base_uri": "https://localhost:8080/"
        },
        "id": "m6H63U5ecuGj",
        "outputId": "1e44cb6f-cf7e-4a67-9ba2-70ff57cf67a9"
      },
      "execution_count": 4,
      "outputs": [
        {
          "output_type": "stream",
          "name": "stdout",
          "text": [
            "{1: 'a', 2: 'b', 3: 'c', 4: 'd', 5: 'e', 6: 'f', 7: 'g', 8: 'h', 9: 'i', 10: 'j', 11: 'k', 12: 'l', 13: 'm', 14: 'n', 15: 'o', 16: 'p', 17: 'q', 18: 'r', 19: 's', 20: 't', 21: 'u', 22: 'v', 23: 'w', 24: 'x', 25: 'y', 26: 'z', 0: '.'}\n",
            "27\n"
          ]
        }
      ]
    },
    {
      "cell_type": "code",
      "source": [
        "#Building the dataset\n",
        "block_size=3\n",
        "\n",
        "def build_dataset(words):\n",
        "  X,Y=[],[]\n",
        "  for w in words:\n",
        "    context= [0]*block_size\n",
        "    for ch in w+'.':\n",
        "      ix=stoi[ch]\n",
        "      X.append(context)\n",
        "      Y.append(ix)\n",
        "      context=context[1:]+[ix]\n",
        "\n",
        "  X=torch.tensor(X)\n",
        "  Y=torch.tensor(Y)\n",
        "  print(X.shape,Y.shape)\n",
        "  return X,Y\n",
        "\n",
        "import random\n",
        "random.seed(42)\n",
        "random.shuffle(words)\n",
        "n1=int(0.8*len(words))\n",
        "n2=int(0.9*len(words))\n",
        "\n",
        "Xtr,Ytr=build_dataset(words[:n1])   #80%\n",
        "Xdev,Ydev=build_dataset(words[n1:n2])   #10%\n",
        "Xte,Yte=build_dataset(words[n2:])   #10%\n"
      ],
      "metadata": {
        "id": "MG65ukN9jwVH",
        "colab": {
          "base_uri": "https://localhost:8080/"
        },
        "outputId": "45525489-2620-49de-aef9-59f50d30c224"
      },
      "execution_count": 5,
      "outputs": [
        {
          "output_type": "stream",
          "name": "stdout",
          "text": [
            "torch.Size([182625, 3]) torch.Size([182625])\n",
            "torch.Size([22655, 3]) torch.Size([22655])\n",
            "torch.Size([22866, 3]) torch.Size([22866])\n"
          ]
        }
      ]
    },
    {
      "cell_type": "code",
      "source": [
        "# MLP revisited\n",
        "n_embd = 10 # the dimensionality of the character embedding vectors\n",
        "n_hidden = 200 # the number of neurons in the hidden layer of the MLP\n",
        "\n",
        "g = torch.Generator().manual_seed(2147483647) # for reproducibility\n",
        "C  = torch.randn((vocab_size, n_embd),            generator=g)\n",
        "W1 = torch.randn((n_embd * block_size, n_hidden), generator=g) * (5/3)/((n_embd*block_size)**0.5)   #Kaiming init\n",
        "#b1 = torch.randn(n_hidden,                        generator=g) * 0.01\n",
        "W2 = torch.randn((n_hidden, vocab_size),          generator=g) * 0.01\n",
        "b2 = torch.randn(vocab_size,                      generator=g) * 0\n",
        "\n",
        "bngain=torch.ones((1, n_hidden))\n",
        "bnbias= torch.zeros((1 , n_hidden))\n",
        "bnmean_running= torch.zeros((1, n_hidden))\n",
        "bnstd_running= torch.ones((1, n_hidden))\n",
        "\n",
        "parameters = [C, W1, b1, W2, b2, bngain, bnbias]\n",
        "print(sum(p.nelement() for p in parameters)) # number of parameters in total\n",
        "for p in parameters:\n",
        "  p.requires_grad = True"
      ],
      "metadata": {
        "colab": {
          "base_uri": "https://localhost:8080/"
        },
        "id": "CkiVD4ESG3uj",
        "outputId": "8ab72673-9327-4526-e9d5-b458ca89f9b7"
      },
      "execution_count": 6,
      "outputs": [
        {
          "output_type": "stream",
          "name": "stdout",
          "text": [
            "12297\n"
          ]
        }
      ]
    },
    {
      "cell_type": "code",
      "source": [
        "max_steps = 200000\n",
        "batch_size = 32\n",
        "lossi = []\n",
        "\n",
        "for i in range(max_steps):\n",
        "\n",
        "  # minibatch construct\n",
        "  ix = torch.randint(0, Xtr.shape[0], (batch_size,), generator=g)\n",
        "  Xb, Yb = Xtr[ix], Ytr[ix] # batch X,Y\n",
        "\n",
        "  # forward pass\n",
        "  emb = C[Xb] # embed the characters into vectors\n",
        "  embcat = emb.view(emb.shape[0], -1) # concatenate the vectors\n",
        "  # Linear layer\n",
        "  hpreact = embcat @ W1 #+ b1 # hidden layer pre-activation\n",
        "  #Applying batch normalization\n",
        "  bnmeani= hpreact.mean(0, keepdim=True)\n",
        "  bnstdi= hpreact.std(0, keepdim=True)\n",
        "  hpreact=bngain * (hpreact - bnmeani) / bnstdi + bnbias\n",
        "\n",
        "  with torch.no_grad():\n",
        "    bnmean_running=0.999 * bnmean_running + 0.001 * bnmeani\n",
        "    bnstd_running=0.999 * bnstd_running + 0.001 * bnstdi\n",
        "\n",
        "  h=torch.tanh(hpreact) #hidden layer\n",
        "  logits=h @ W2 + b2  #output layer\n",
        "  loss=F.cross_entropy(logits,Yb) #loss function\n",
        "\n",
        "\n",
        "  # backward pass\n",
        "  for p in parameters:\n",
        "    p.grad = None\n",
        "  loss.backward()\n",
        "\n",
        "  # update\n",
        "  lr = 0.1 if i < 100000 else 0.01 # step learning rate decay\n",
        "  for p in parameters:\n",
        "    p.data += -lr * p.grad\n",
        "\n",
        "  # track stats\n",
        "  if i % 10000 == 0: # print every once in a while\n",
        "    print(f'{i:7d}/{max_steps:7d}: {loss.item():.4f}')\n",
        "  lossi.append(loss.log10().item())\n"
      ],
      "metadata": {
        "id": "E6xR6ITOHymm",
        "colab": {
          "base_uri": "https://localhost:8080/"
        },
        "outputId": "fa95daa3-a8e0-43f1-94ab-6a697427e8b2"
      },
      "execution_count": 7,
      "outputs": [
        {
          "output_type": "stream",
          "name": "stdout",
          "text": [
            "      0/ 200000: 3.3147\n",
            "  10000/ 200000: 2.1984\n",
            "  20000/ 200000: 2.3375\n",
            "  30000/ 200000: 2.4359\n",
            "  40000/ 200000: 2.0119\n",
            "  50000/ 200000: 2.2595\n",
            "  60000/ 200000: 2.4775\n",
            "  70000/ 200000: 2.1020\n",
            "  80000/ 200000: 2.2788\n",
            "  90000/ 200000: 2.1862\n",
            " 100000/ 200000: 1.9474\n",
            " 110000/ 200000: 2.3010\n",
            " 120000/ 200000: 1.9837\n",
            " 130000/ 200000: 2.4523\n",
            " 140000/ 200000: 2.3839\n",
            " 150000/ 200000: 2.1987\n",
            " 160000/ 200000: 1.9733\n",
            " 170000/ 200000: 1.8668\n",
            " 180000/ 200000: 1.9973\n",
            " 190000/ 200000: 1.8347\n"
          ]
        }
      ]
    },
    {
      "cell_type": "code",
      "source": [
        "plt.plot(lossi)"
      ],
      "metadata": {
        "colab": {
          "base_uri": "https://localhost:8080/",
          "height": 447
        },
        "id": "ftd2M-5G5plH",
        "outputId": "5ab260d0-f278-4338-d826-300dbde04a32"
      },
      "execution_count": 8,
      "outputs": [
        {
          "output_type": "execute_result",
          "data": {
            "text/plain": [
              "[<matplotlib.lines.Line2D at 0x7eaff923a550>]"
            ]
          },
          "metadata": {},
          "execution_count": 8
        },
        {
          "output_type": "display_data",
          "data": {
            "text/plain": [
              "<Figure size 640x480 with 1 Axes>"
            ],
            "image/png": "[encoded data removed]"
          },
          "metadata": {}
        }
      ]
    },
    {
      "cell_type": "code",
      "source": [
        "#calibrate the batch norm at the end of the training\n",
        "with torch.no_grad():\n",
        "  #pass the training set\n",
        "  emb = C[Xtr]\n",
        "  embcat = emb.view(emb.shape[0], -1)\n",
        "  hpreact = embcat @ W1 + b1\n",
        "  #measure the mean/std over the entire training set\n",
        "  bnmean= hpreact.mean(0, keepdim=True)\n",
        "  bnstd= hpreact.std(0, keepdim=True)"
      ],
      "metadata": {
        "id": "eiybHsZuGsex"
      },
      "execution_count": 12,
      "outputs": []
    },
    {
      "cell_type": "code",
      "source": [
        "@torch.no_grad() # this decorator disables gradient tracking\n",
        "def split_loss(split):\n",
        "  x,y = {\n",
        "    'train': (Xtr, Ytr),\n",
        "    'val': (Xdev, Ydev),\n",
        "    'test': (Xte, Yte),\n",
        "  }[split]\n",
        "  emb = C[x] # (N, block_size, n_embd)\n",
        "  embcat = emb.view(emb.shape[0], -1) # concat into (N, block_size * n_embd)\n",
        "  hpreact = embcat @ W1 + b1 # hidden layer pre-activation\n",
        "  #hpreact=bngain * (hpreact - hpreact.mean(0, keepdim=True)) / hpreact.std(0 , keepdim=True) + bnbias\n",
        "  hpreact=bngain * (hpreact - bnmean_running) / bnstd_running + bnbias\n",
        "  h=torch.tanh(hpreact)\n",
        "  logits = h @ W2 + b2 # (N, vocab_size)\n",
        "  loss = F.cross_entropy(logits, y)\n",
        "  print(split, loss.item())\n",
        "\n",
        "split_loss('train')\n",
        "split_loss('val')"
      ],
      "metadata": {
        "colab": {
          "base_uri": "https://localhost:8080/"
        },
        "id": "u-BV8JTF8c9e",
        "outputId": "282d1e11-0f34-4246-ac46-bd8b21e9c5ca"
      },
      "execution_count": 14,
      "outputs": [
        {
          "output_type": "stream",
          "name": "stdout",
          "text": [
            "train 2.0668270587921143\n",
            "val 2.1049270629882812\n"
          ]
        }
      ]
    },
    {
      "cell_type": "code",
      "source": [
        "g= torch.Generator().manual_seed(2147483647+10)\n",
        "\n",
        "for _ in range(20):\n",
        "  out=[]\n",
        "  context= [0] * block_size\n",
        "  while True:\n",
        "    emb=C[torch.tensor([context])]\n",
        "    h=torch.tanh(emb.view(1,-1) @ W1 + b1)\n",
        "    logits=h @ W2 + b2\n",
        "    probs=F.softmax(logits,dim=1)\n",
        "    #sample from the distribution\n",
        "\n",
        "    ix=torch.multinomial(probs,num_samples=1,generator=g).item()\n",
        "    context=context[1:]+[ix]\n",
        "    out.append(ix)\n",
        "    if ix==0:\n",
        "      break\n",
        "  print(''.join(itos[i] for i in out))\n"
      ],
      "metadata": {
        "colab": {
          "base_uri": "https://localhost:8080/"
        },
        "id": "0SMuzYnB9rHm",
        "outputId": "499ae970-5848-4757-c938-40e95f9d7a85"
      },
      "execution_count": 10,
      "outputs": [
        {
          "output_type": "stream",
          "name": "stdout",
          "text": [
            "briangmyazziyes.\n",
            "bdulyah.\n",
            "briyas.\n",
            "brdrner.\n",
            "sherkodrlithlyllsenleigh.\n",
            "santhannchyziohmkrrnn.\n",
            "shdumrishimnest.\n",
            "jadestly.\n",
            "prgbdulfuubdgghder.\n",
            "jaquezmashburjahsis.\n",
            "dashby.\n",
            "sadya.\n",
            "sus.\n",
            "zakquslutel.\n",
            "subristia.\n",
            "sumprrdnn.\n",
            "quloeonandphillsamreyxa.\n",
            "hunton.\n",
            "bdasirfalvinnwrllwildtalfr.\n",
            "tandysestss.\n"
          ]
        }
      ]
    },
    {
      "cell_type": "code",
      "source": [],
      "metadata": {
        "id": "R5rs2aSrCTts"
      },
      "execution_count": 10,
      "outputs": []
    }
  ]
}